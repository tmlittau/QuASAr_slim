{
  "cells": [
    {
      "cell_type": "markdown",
      "metadata": {},
      "source": [
        "# Planner optimality study\n",
        "\n",
        "This notebook compares QuASAr's planner decisions with an exhaustive search over backend/hybrid\n",
        "choices for small circuits. It reports the cost gap between the heuristic plan (which may use the\n",
        "planner's quick path) and the globally optimal plan derived from exhaustive enumeration.\n"
      ]
    },
    {
      "cell_type": "markdown",
      "metadata": {},
      "source": [
        "## Overview\n",
        "\n",
        "1. Generate a catalogue of small Clifford+rotation circuits.\n",
        "2. Analyse each circuit into QuSD partitions.\n",
        "3. Run QuASAr's planner with default settings.\n",
        "4. Enumerate all planner options to obtain the optimal (minimum estimated cost) plan.\n",
        "5. Summarise the optimality gap and export CSV/figures.\n"
      ]
    },
    {
      "cell_type": "code",
      "execution_count": null,
      "metadata": {},
      "outputs": [],
      "source": [
        "from __future__ import annotations\n",
        "\n",
        "import itertools\n",
        "from pathlib import Path\n",
        "import sys\n",
        "from typing import Dict, Iterable, List\n",
        "\n",
        "import numpy as np\n",
        "try:\n",
        "    import pandas as pd\n",
        "except ImportError:  # pragma: no cover - optional dependency\n",
        "    pd = None\n",
        "import matplotlib.pyplot as plt\n",
        "\n",
        "REPO_ROOT = Path.cwd()\n",
        "if (REPO_ROOT / 'scripts').exists() and str(REPO_ROOT) not in sys.path:\n",
        "    sys.path.insert(0, str(REPO_ROOT))\n",
        "\n",
        "from qiskit import QuantumCircuit\n",
        "from qiskit.circuit.random import random_circuit\n",
        "\n",
        "from scripts.calibration.common import random_tail_circuit, random_clifford_circuit, collect_metrics\n",
        "from quasar.analyzer import analyze\n",
        "from quasar.cost_estimator import CostEstimator\n",
        "from quasar.qusd import Plan\n",
        "from quasar.planner import PlannerConfig, plan as quasar_plan\n",
        "import quasar.planner as planner_module\n",
        "\n",
        "plt.rcParams.update({'figure.figsize': (7.5, 4.5), 'axes.grid': True})\n"
      ]
    },
    {
      "cell_type": "code",
      "execution_count": null,
      "metadata": {},
      "outputs": [],
      "source": [
        "def generate_test_circuits() -> List[QuantumCircuit]:\n",
        "    circuits: List[QuantumCircuit] = []\n",
        "    seeds = np.random.default_rng(13).integers(0, 2**31 - 1, size=16, dtype=np.int64)\n",
        "    # Structured Clifford+rotation tails.\n",
        "    for idx, seed in enumerate(seeds[:6]):\n",
        "        n = 2 + idx % 3\n",
        "        layers = 3 + idx % 2\n",
        "        circ = random_tail_circuit(\n",
        "            n=n,\n",
        "            layers=layers,\n",
        "            angle_scale=0.2,\n",
        "            rotation_prob=0.5,\n",
        "            twoq_prob=0.6,\n",
        "            branch_prob=0.25,\n",
        "            diag_prob=0.2,\n",
        "            seed=int(seed),\n",
        "        )\n",
        "        circuits.append(circ)\n",
        "    # Pure Clifford circuits.\n",
        "    for idx, seed in enumerate(seeds[6:12]):\n",
        "        n = 2 + idx % 2\n",
        "        depth = 4 + idx\n",
        "        circuits.append(random_clifford_circuit(n=n, depth=depth, seed=int(seed)))\n",
        "    # Random Qiskit circuits to stress heuristic splits.\n",
        "    for idx, seed in enumerate(seeds[12:]):\n",
        "        circ = random_circuit(num_qubits=3 + (idx % 2), depth=4 + idx, measure=False, seed=int(seed))\n",
        "        circuits.append(circ)\n",
        "    # Add a handcrafted example with an obvious hybrid split.\n",
        "    manual = QuantumCircuit(3)\n",
        "    manual.h(0)\n",
        "    manual.cx(0, 1)\n",
        "    manual.cx(1, 2)\n",
        "    manual.t(2)\n",
        "    manual.cz(0, 2)\n",
        "    manual.rx(0.2, 2)\n",
        "    manual.cz(1, 2)\n",
        "    circuits.append(manual)\n",
        "    return circuits\n",
        "\n",
        "\n",
        "def exhaustive_plan(base_plan: Plan, cfg: PlannerConfig) -> Plan:\n",
        "    estimator = CostEstimator.from_planner_config(cfg)\n",
        "    option_sets: List[List[List]] = []\n",
        "    for node in base_plan.qusds:\n",
        "        options = planner_module._plan_options_for_partition(node, cfg)\n",
        "        if not options:\n",
        "            options = [[]]\n",
        "        option_sets.append(options)\n",
        "    meta = dict(base_plan.meta)\n",
        "    best_plan: Plan | None = None\n",
        "    for combination in itertools.product(*option_sets) if option_sets else [()]:\n",
        "        candidate = Plan(meta=dict(meta))\n",
        "        for option in combination:\n",
        "            if not option:\n",
        "                continue\n",
        "            candidate.extend_plan(option, estimator)\n",
        "        if best_plan is None or candidate.estimated_cost < best_plan.estimated_cost:\n",
        "            best_plan = candidate\n",
        "    return best_plan if best_plan is not None else Plan(meta=dict(meta))\n"
      ]
    },
    {
      "cell_type": "code",
      "execution_count": null,
      "metadata": {
        "tags": [
          "parameters"
        ]
      },
      "outputs": [],
      "source": [
        "cfg = PlannerConfig()\n",
        "circuits = generate_test_circuits()\n",
        "len(circuits)\n"
      ]
    },
    {
      "cell_type": "code",
      "execution_count": null,
      "metadata": {},
      "outputs": [],
      "source": [
        "records: List[Dict[str, object]] = []\n",
        "for idx, circuit in enumerate(circuits):\n",
        "    analysis = analyze(circuit)\n",
        "    base_plan = analysis.plan\n",
        "    metrics = analysis.metrics_global\n",
        "    quick_path = planner_module._should_use_quick_path(base_plan, cfg)\n",
        "    heuristic = quasar_plan(base_plan, cfg)\n",
        "    optimal = exhaustive_plan(base_plan, cfg)\n",
        "    optimal_cost = optimal.estimated_cost or 0.0\n",
        "    heuristic_cost = heuristic.estimated_cost or 0.0\n",
        "    gap = float('nan')\n",
        "    if optimal_cost > 0:\n",
        "        gap = (heuristic_cost - optimal_cost) / optimal_cost\n",
        "    record = {\n",
        "        'circuit_id': idx,\n",
        "        'num_qubits': circuit.num_qubits,\n",
        "        'depth': circuit.depth(),\n",
        "        'num_gates': metrics.get('num_gates'),\n",
        "        'two_qubit_gates': metrics.get('two_qubit_gates'),\n",
        "        'rotation_count': metrics.get('rotation_count'),\n",
        "        'heuristic_cost': heuristic_cost,\n",
        "        'optimal_cost': optimal_cost,\n",
        "        'gap_fraction': gap,\n",
        "        'heuristic_steps': len(heuristic.qusds),\n",
        "        'optimal_steps': len(optimal.qusds),\n",
        "        'quick_path': bool(quick_path),\n",
        "        'heuristic_trace': heuristic.decision_trace,\n",
        "        'optimal_trace': optimal.decision_trace,\n",
        "    }\n",
        "    records.append(record)\n",
        "len(records)\n"
      ]
    },
    {
      "cell_type": "code",
      "execution_count": null,
      "metadata": {},
      "outputs": [],
      "source": [
        "if pd is not None:\n",
        "    gap_df = pd.DataFrame(records)\n",
        "    display(gap_df.head())\n",
        "else:\n",
        "    gap_df = records\n",
        "    gap_df[:3]\n"
      ]
    },
    {
      "cell_type": "code",
      "execution_count": null,
      "metadata": {},
      "outputs": [],
      "source": [
        "if pd is None:\n",
        "    raise RuntimeError('Install pandas to continue the analysis.')\n",
        "summary = gap_df[['gap_fraction', 'quick_path']].dropna()\n",
        "avg_gap = summary['gap_fraction'].mean() if not summary.empty else float('nan')\n",
        "max_gap = summary['gap_fraction'].max() if not summary.empty else float('nan')\n",
        "avg_gap, max_gap\n"
      ]
    },
    {
      "cell_type": "code",
      "execution_count": null,
      "metadata": {},
      "outputs": [],
      "source": [
        "results_dir = Path('final_results')\n",
        "results_dir.mkdir(parents=True, exist_ok=True)\n",
        "gap_csv = results_dir / 'planner_optimality_gap.csv'\n",
        "gap_df.to_csv(gap_csv, index=False)\n",
        "gap_csv\n"
      ]
    },
    {
      "cell_type": "code",
      "execution_count": null,
      "metadata": {},
      "outputs": [],
      "source": [
        "fig, ax = plt.subplots()\n",
        "subset = gap_df.dropna(subset=['gap_fraction'])\n",
        "ax.bar(subset['circuit_id'], subset['gap_fraction'])\n",
        "ax.set_xlabel('Circuit index')\n",
        "ax.set_ylabel('Relative gap')\n",
        "ax.set_title('Heuristic vs. optimal estimated cost gap')\n",
        "fig.tight_layout()\n",
        "plot_path = Path('plots') / 'planner_optimality_gap.png'\n",
        "plot_path.parent.mkdir(parents=True, exist_ok=True)\n",
        "fig.savefig(plot_path, dpi=150)\n",
        "plot_path\n"
      ]
    }
  ],
  "metadata": {
    "kernelspec": {
      "display_name": "Python 3",
      "language": "python",
      "name": "python3"
    },
    "language_info": {
      "name": "python",
      "version": "3.12.10"
    }
  },
  "nbformat": 4,
  "nbformat_minor": 5
}