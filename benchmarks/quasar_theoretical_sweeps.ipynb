{
  "cells": [
    {
      "cell_type": "markdown",
      "metadata": {},
      "source": [
        "# QuASAr Theoretical Benchmark Sweeps\n",
        "\n",
        "This notebook mirrors the execution sweeps from `quasar_benchmark_sweeps.ipynb` using the theoretical\n",
        "cost estimation utilities to predict runtime and memory footprints. Adjust the configuration below to\n",
        "explore different circuit families and planner settings.\n"
      ]
    },
    {
      "cell_type": "code",
      "metadata": {},
      "execution_count": null,
      "outputs": [],
      "source": [
        "from __future__ import annotations\n",
        "\n",
        "import json\n",
        "import logging\n",
        "from typing import Any, Dict, Iterable, List, Optional\n",
        "\n",
        "import matplotlib.pyplot as plt\n",
        "import pandas as pd\n",
        "import seaborn as sns\n",
        "\n",
        "from IPython.display import display\n",
        "\n",
        "from benchmarks.unified import generate_benchmark_circuit\n",
        "from quasar.planner import PlannerConfig\n",
        "from quasar.theoretical import (\n",
        "    estimate_decision_diagram,\n",
        "    estimate_quasar,\n",
        "    estimate_statevector,\n",
        "    estimate_tableau,\n",
        ")\n",
        "\n",
        "LOGGER = logging.getLogger(\"quasar.theoretical_sweeps\")\n",
        "if not LOGGER.handlers:\n",
        "    handler = logging.StreamHandler()\n",
        "    handler.setFormatter(logging.Formatter(\"[%(asctime)s] %(levelname)s %(message)s\"))\n",
        "    LOGGER.addHandler(handler)\n",
        "LOGGER.propagate = False\n",
        "LOGGER.setLevel(logging.INFO)\n",
        "\n",
        "pd.options.display.float_format = \"{:.2f}\".format\n",
        "sns.set_theme(style=\"whitegrid\")\n",
        "\n",
        "def _aggregate_work(units: Dict[str, float]) -> float:\n",
        "    return float(sum(units.values())) if units else 0.0\n",
        "\n",
        "def analyze_without_disjoint(circuit):\n",
        "    from quasar.analyzer import AnalysisResult, Plan, QuSD\n",
        "    from quasar.gate_metrics import circuit_metrics\n",
        "\n\n",
        "    metrics = circuit_metrics(circuit)\n",
        "    plan = Plan(meta={\"total_qubits\": circuit.num_qubits, \"components\": 1})\n",
        "    qusd = QuSD(\n",
        "        id=0,\n",
        "        qubits=list(range(circuit.num_qubits)),\n",
        "        circuit=circuit,\n",
        "        metrics=dict(metrics),\n",
        "    )\n",
        "    plan.add(qusd)\n",
        "    return AnalysisResult(plan=plan, metrics_global=dict(metrics))\n"
      ]
    },
    {
      "cell_type": "code",
      "metadata": {},
      "execution_count": null,
      "outputs": [],
      "source": [
        "def _make_planner_cfg(overrides: Optional[Dict[str, Any]] = None, *, force_full_search: bool = False) -> PlannerConfig:\n",
        "    params = dict(overrides or {})\n",
        "    if force_full_search:\n",
        "        params.setdefault(\"quick_path_partition_threshold\", 0)\n",
        "        params.setdefault(\"quick_path_gate_threshold\", 0)\n",
        "        params.setdefault(\"quick_path_qubit_threshold\", 0)\n",
        "    return PlannerConfig(**params)\n",
        "\n",
        "def sweep_theoretical_quasar(\n",
        "    *,\n",
        "    family: str,\n",
        "    varying: str,\n",
        "    values: Iterable[int],\n",
        "    fixed_qubits: int,\n",
        "    fixed_depth: int,\n",
        "    circuit_kwargs: Optional[Dict[str, Any]] = None,\n",
        "    planner_overrides: Optional[Dict[str, Any]] = None,\n",
        "    analysis_fn=None,\n",
        "    force_full_search: bool = False,\n",
        ") -> List[Dict[str, Any]]:\n",
        "    records: List[Dict[str, Any]] = []\n",
        "    for value in values:\n",
        "        if varying == \"qubits\":\n",
        "            num_qubits = int(value)\n",
        "            depth = int(fixed_depth)\n",
        "        elif varying == \"depth\":\n",
        "            num_qubits = int(fixed_qubits)\n",
        "            depth = int(value)\n",
        "        else:\n",
        "            raise ValueError(\"varying must be 'qubits' or 'depth'\")\n",
        "        circuit = generate_benchmark_circuit(\n",
        "            num_qubits=num_qubits,\n",
        "            depth=depth,\n",
        "            family=family,\n",
        "            **(circuit_kwargs or {}),\n",
        "        )\n",
        "        cfg = _make_planner_cfg(planner_overrides, force_full_search=force_full_search)\n",
        "        estimate = estimate_quasar(\n",
        "            circuit,\n",
        "            planner_cfg=cfg,\n",
        "            analysis_fn=analysis_fn,\n",
        "        )\n",
        "        record = {\n",
        "            \"backend\": \"quasar\",\n",
        "            \"family\": family,\n",
        "            \"varying\": varying,\n",
        "            \"value\": int(value),\n",
        "            \"num_qubits\": num_qubits,\n",
        "            \"depth\": depth,\n",
        "            \"work_units_total\": _aggregate_work(estimate.work_units_by_label),\n",
        "            \"work_units_by_label\": dict(estimate.work_units_by_label),\n",
        "            \"peak_memory_bytes\": int(estimate.peak_memory_bytes),\n",
        "            \"time_seconds\": estimate.total_time_seconds,\n",
        "            \"ok\": bool(estimate.ok),\n",
        "            \"single_backend\": estimate.single_backend,\n",
        "            \"single_backend_reason\": estimate.single_backend_reason,\n",
        "            \"plan_cost_units\": float(estimate.plan_cost_units),\n",
        "        }\n",
        "        records.append(record)\n",
        "    return records\n",
        "\n",
        "def sweep_theoretical_baseline(\n",
        "    *,\n",
        "    backend: str,\n",
        "    family: str,\n",
        "    varying: str,\n",
        "    values: Iterable[int],\n",
        "    fixed_qubits: int,\n",
        "    fixed_depth: int,\n",
        "    circuit_kwargs: Optional[Dict[str, Any]] = None,\n",
        ") -> List[Dict[str, Any]]:\n",
        "    records: List[Dict[str, Any]] = []\n",
        "    estimators = {\n",
        "        \"sv\": estimate_statevector,\n",
        "        \"dd\": estimate_decision_diagram,\n",
        "        \"tableau\": estimate_tableau,\n",
        "    }\n",
        "    estimator = estimators.get(backend)\n",
        "    if estimator is None:\n",
        "        raise ValueError(f\"Unsupported baseline backend '{backend}'\")\n",
        "    for value in values:\n",
        "        if varying == \"qubits\":\n",
        "            num_qubits = int(value)\n",
        "            depth = int(fixed_depth)\n",
        "        elif varying == \"depth\":\n",
        "            num_qubits = int(fixed_qubits)\n",
        "            depth = int(value)\n",
        "        else:\n",
        "            raise ValueError(\"varying must be 'qubits' or 'depth'\")\n",
        "        circuit = generate_benchmark_circuit(\n",
        "            num_qubits=num_qubits,\n",
        "            depth=depth,\n",
        "            family=family,\n",
        "            **(circuit_kwargs or {}),\n",
        "        )\n",
        "        estimate = estimator(circuit)\n",
        "        record = {\n",
        "            \"backend\": backend,\n",
        "            \"family\": family,\n",
        "            \"varying\": varying,\n",
        "            \"value\": int(value),\n",
        "            \"num_qubits\": num_qubits,\n",
        "            \"depth\": depth,\n",
        "            \"work_units_total\": float(estimate.work_units),\n",
        "            \"work_units_by_label\": {estimate.work_unit_label: float(estimate.work_units)},\n",
        "            \"peak_memory_bytes\": int(estimate.memory_bytes),\n",
        "            \"time_seconds\": estimate.time_seconds,\n",
        "            \"ok\": bool(estimate.ok),\n",
        "            \"reason\": estimate.reason,\n",
        "        }\n",
        "        records.append(record)\n",
        "    return records\n",
        "\n",
        "def _to_dataframe(records: List[Dict[str, Any]], *, label: Optional[str] = None) -> pd.DataFrame:\n",
        "    if not records:\n",
        "        return pd.DataFrame()\n",
        "    rows = []\n",
        "    for rec in records:\n",
        "        row = dict(rec)\n",
        "        row[\"work_units_by_label\"] = json.dumps(rec.get(\"work_units_by_label\", {}), sort_keys=True)\n",
        "        if label is not None:\n",
        "            row[\"label\"] = label\n",
        "        rows.append(row)\n",
        "    return pd.DataFrame(rows)\n"
      ]
    },
    {
      "cell_type": "markdown",
      "metadata": {},
      "source": [
        "## Default sweep configuration\n",
        "Adjust the values below to explore other circuit families, qubit ranges, or depths.\n"
      ]
    },
    {
      "cell_type": "code",
      "metadata": {},
      "execution_count": null,
      "outputs": [],
      "source": [
        "family = \"mixed\"\n",
        "qubit_sweep = [6, 8, 10]\n",
        "depth_sweep = [8, 12, 16]\n",
        "\n",
        "circuit_options = {\"block_size\": 4, \"cutoff\": 0.75, \"tail_type\": \"sparse\", \"seed\": 7}\n",
        "planner_options = {\"max_ram_gb\": 4.0, \"prefer_dd\": True}\n"
      ]
    },
    {
      "cell_type": "markdown",
      "metadata": {},
      "source": [
        "## QuASAr theoretical sweeps\n"
      ]
    },
    {
      "cell_type": "code",
      "metadata": {},
      "execution_count": null,
      "outputs": [],
      "source": [
        "quasar_qubit_results = sweep_theoretical_quasar(\n",
        "    family=family,\n",
        "    varying=\"qubits\",\n",
        "    values=qubit_sweep,\n",
        "    fixed_qubits=qubit_sweep[0],\n",
        "    fixed_depth=depth_sweep[0],\n",
        "    circuit_kwargs=circuit_options,\n",
        "    planner_overrides=planner_options,\n",
        ")\n",
        "quasar_depth_results = sweep_theoretical_quasar(\n",
        "    family=family,\n",
        "    varying=\"depth\",\n",
        "    values=depth_sweep,\n",
        "    fixed_qubits=qubit_sweep[0],\n",
        "    fixed_depth=depth_sweep[0],\n",
        "    circuit_kwargs=circuit_options,\n",
        "    planner_overrides=planner_options,\n",
        ")\n",
        "quasar_qubit_df = _to_dataframe(quasar_qubit_results, label=\"QuASAr (qubits)\")\n",
        "quasar_depth_df = _to_dataframe(quasar_depth_results, label=\"QuASAr (depth)\")\n",
        "display(quasar_qubit_df)\n",
        "display(quasar_depth_df)\n"
      ]
    },
    {
      "cell_type": "markdown",
      "metadata": {},
      "source": [
        "## Tableau baseline sweeps\n"
      ]
    },
    {
      "cell_type": "code",
      "metadata": {},
      "execution_count": null,
      "outputs": [],
      "source": [
        "tableau_qubit_results = sweep_theoretical_baseline(\n",
        "    backend=\"tableau\",\n",
        "    family=family,\n",
        "    varying=\"qubits\",\n",
        "    values=qubit_sweep,\n",
        "    fixed_qubits=qubit_sweep[0],\n",
        "    fixed_depth=depth_sweep[0],\n",
        "    circuit_kwargs=circuit_options,\n",
        ")\n",
        "tableau_qubit_df = _to_dataframe(tableau_qubit_results, label=\"Tableau (qubits)\")\n",
        "display(tableau_qubit_df)\n"
      ]
    },
    {
      "cell_type": "markdown",
      "metadata": {},
      "source": [
        "## Statevector baseline sweeps\n"
      ]
    },
    {
      "cell_type": "code",
      "metadata": {},
      "execution_count": null,
      "outputs": [],
      "source": [
        "statevector_depth_results = sweep_theoretical_baseline(\n",
        "    backend=\"sv\",\n",
        "    family=family,\n",
        "    varying=\"depth\",\n",
        "    values=depth_sweep,\n",
        "    fixed_qubits=qubit_sweep[0],\n",
        "    fixed_depth=depth_sweep[0],\n",
        "    circuit_kwargs=circuit_options,\n",
        ")\n",
        "statevector_depth_df = _to_dataframe(statevector_depth_results, label=\"Statevector (depth)\")\n",
        "display(statevector_depth_df)\n"
      ]
    },
    {
      "cell_type": "markdown",
      "metadata": {},
      "source": [
        "## Decision-diagram baseline sweeps\n"
      ]
    },
    {
      "cell_type": "code",
      "metadata": {},
      "execution_count": null,
      "outputs": [],
      "source": [
        "dd_qubit_results = sweep_theoretical_baseline(\n",
        "    backend=\"dd\",\n",
        "    family=family,\n",
        "    varying=\"qubits\",\n",
        "    values=qubit_sweep,\n",
        "    fixed_qubits=qubit_sweep[0],\n",
        "    fixed_depth=depth_sweep[0],\n",
        "    circuit_kwargs=circuit_options,\n",
        ")\n",
        "dd_qubit_df = _to_dataframe(dd_qubit_results, label=\"Decision diagram (qubits)\")\n",
        "display(dd_qubit_df)\n"
      ]
    },
    {
      "cell_type": "markdown",
      "metadata": {},
      "source": [
        "## Ablation: disable disjoint parallelisation\n"
      ]
    },
    {
      "cell_type": "code",
      "metadata": {},
      "execution_count": null,
      "outputs": [],
      "source": [
        "ablation_disjoint = sweep_theoretical_quasar(\n",
        "    family=family,\n",
        "    varying=\"qubits\",\n",
        "    values=qubit_sweep,\n",
        "    fixed_qubits=qubit_sweep[0],\n",
        "    fixed_depth=depth_sweep[0],\n",
        "    circuit_kwargs=circuit_options,\n",
        "    planner_overrides=planner_options,\n",
        "    analysis_fn=analyze_without_disjoint,\n",
        ")\n",
        "ablation_disjoint_df = _to_dataframe(ablation_disjoint, label=\"QuASAr (no disjoint)\")\n",
        "display(ablation_disjoint_df)\n"
      ]
    },
    {
      "cell_type": "markdown",
      "metadata": {},
      "source": [
        "## Ablation: disable method-based partitioning\n"
      ]
    },
    {
      "cell_type": "code",
      "metadata": {},
      "execution_count": null,
      "outputs": [],
      "source": [
        "ablation_method = sweep_theoretical_quasar(\n",
        "    family=family,\n",
        "    varying=\"depth\",\n",
        "    values=depth_sweep,\n",
        "    fixed_qubits=qubit_sweep[0],\n",
        "    fixed_depth=depth_sweep[0],\n",
        "    circuit_kwargs=circuit_options,\n",
        "    planner_overrides={**planner_options, \"hybrid_clifford_tail\": False},\n",
        ")\n",
        "ablation_method_df = _to_dataframe(ablation_method, label=\"QuASAr (no hybrid tail)\")\n",
        "display(ablation_method_df)\n"
      ]
    },
    {
      "cell_type": "markdown",
      "metadata": {},
      "source": [
        "## Ablation: disable quick-path method selection\n"
      ]
    },
    {
      "cell_type": "code",
      "metadata": {},
      "execution_count": null,
      "outputs": [],
      "source": [
        "ablation_quick_path = sweep_theoretical_quasar(\n",
        "    family=family,\n",
        "    varying=\"qubits\",\n",
        "    values=qubit_sweep,\n",
        "    fixed_qubits=qubit_sweep[0],\n",
        "    fixed_depth=depth_sweep[0],\n",
        "    circuit_kwargs=circuit_options,\n",
        "    planner_overrides=planner_options,\n",
        "    force_full_search=True,\n",
        ")\n",
        "ablation_quick_path_df = _to_dataframe(ablation_quick_path, label=\"QuASAr (full search)\")\n",
        "display(ablation_quick_path_df)\n"
      ]
    },
    {
      "cell_type": "markdown",
      "metadata": {},
      "source": [
        "## Seaborn summary plots\n",
        "The plots below aggregate the main sweep results using the Seaborn styling configured above.\n"
      ]
    },
    {
      "cell_type": "code",
      "metadata": {},
      "execution_count": null,
      "outputs": [],
      "source": [
        "plot_frames = [\n",
        "    quasar_qubit_df.assign(sweep=\"qubits\"),\n",
        "    quasar_depth_df.assign(sweep=\"depth\"),\n",
        "    tableau_qubit_df.assign(sweep=\"qubits\"),\n",
        "    statevector_depth_df.assign(sweep=\"depth\"),\n",
        "    dd_qubit_df.assign(sweep=\"qubits\"),\n",
        "]\n",
        "plot_df = pd.concat(plot_frames, ignore_index=True) if plot_frames else pd.DataFrame()\n",
        "plot_df = plot_df[plot_df.get(\"ok\", True).astype(bool)] if not plot_df.empty else plot_df\n",
        "if not plot_df.empty:\n",
        "    plot_df = plot_df.copy()\n",
        "    plot_df[\"peak_memory_gib\"] = plot_df[\"peak_memory_bytes\"] / float(1024 ** 3)\n",
        "    fig, axes = plt.subplots(1, 2, figsize=(14, 5))\n",
        "    sns.lineplot(data=plot_df, x=\"value\", y=\"work_units_total\", hue=\"label\", style=\"sweep\", markers=True, ax=axes[0])\n",
        "    axes[0].set_xlabel(\"Sweep value\")\n",
        "    axes[0].set_ylabel(\"Work units (model)\")\n",
        "    axes[0].set_title(\"Theoretical work per configuration\")\n",
        "    sns.lineplot(data=plot_df, x=\"value\", y=\"peak_memory_gib\", hue=\"label\", style=\"sweep\", markers=True, ax=axes[1])\n",
        "    axes[1].set_xlabel(\"Sweep value\")\n",
        "    axes[1].set_ylabel(\"Peak memory (GiB)\")\n",
        "    axes[1].set_title(\"Estimated peak memory usage\")\n",
        "    plt.tight_layout()\n",
        "else:\n",
        "    print(\"No data available for plotting.\")\n"
      ]
    }
  ],
  "metadata": {
    "kernelspec": {
      "display_name": "Python 3",
      "language": "python",
      "name": "python3"
    },
    "language_info": {
      "name": "python",
      "version": "3.10"
    }
  },
  "nbformat": 4,
  "nbformat_minor": 5
}