{
  "cells": [
    {
      "cell_type": "markdown",
      "metadata": {},
      "source": "# QuASAr Benchmark Sweeps\n\nThis notebook provides reusable helpers to generate QuASAr benchmark circuits and run sweeps across circuit sizes or depths. Use the cells below to configure experiments, execute QuASAr, compare baseline simulators, and explore ablation studies."
    },
    {
      "cell_type": "markdown",
      "metadata": {},
      "source": "## Setup\nImport the unified circuit generator together with the QuASAr planning and execution stack."
    },
    {
      "cell_type": "code",
      "metadata": {},
      "execution_count": null,
      "outputs": [],
      "source": "from __future__ import annotations\n\nfrom contextlib import contextmanager\nfrom typing import Any, Callable, Dict, Iterable, List, Optional\n\ntry:\n    import pandas as pd  # type: ignore\nexcept Exception:  # pragma: no cover - optional dependency\n    pd = None\n\nfrom IPython.display import display\n\nfrom benchmarks.unified import generate_benchmark_circuit\nfrom quasar.analyzer import AnalysisResult, analyze\nfrom quasar.gate_metrics import circuit_metrics\nfrom quasar.planner import PlannerConfig, plan\nfrom quasar.simulation_engine import ExecutionConfig, execute_ssd\nfrom quasar.SSD import PartitionNode, SSD\nfrom quasar.baselines import run_single_baseline"
    },
    {
      "cell_type": "markdown",
      "metadata": {},
      "source": "## Helper utilities\nThe helper functions below orchestrate QuASAr runs, present tabular outputs, and configure ablation scenarios."
    },
    {
      "cell_type": "code",
      "metadata": {},
      "execution_count": null,
      "outputs": [],
      "source": "BenchmarkRecord = Dict[str, Any]\n\n\ndef _to_dataframe(records: Iterable[BenchmarkRecord]):\n    if pd is not None:\n        return pd.DataFrame(list(records))\n    return list(records)\n\n\n@contextmanager\ndef disable_quick_path():\n    import quasar.planner as planner_module\n\n    original = planner_module._should_use_quick_path\n    planner_module._should_use_quick_path = lambda ssd, cfg: False\n    try:\n        yield\n    finally:\n        planner_module._should_use_quick_path = original\n\n\ndef analyze_without_disjoint(circuit) -> AnalysisResult:\n    metrics = circuit_metrics(circuit)\n    ssd = SSD(meta={\"total_qubits\": circuit.num_qubits, \"components\": 1})\n    node = PartitionNode(\n        id=0,\n        qubits=list(range(circuit.num_qubits)),\n        circuit=circuit,\n        metrics=dict(metrics),\n    )\n    ssd.add(node)\n    return AnalysisResult(ssd=ssd, metrics_global=dict(metrics))\n\n\ndef run_quasar_pipeline(\n    circuit,\n    *,\n    planner_overrides: Optional[Dict[str, Any]] = None,\n    execution_overrides: Optional[Dict[str, Any]] = None,\n    analysis_fn: Callable[[Any], AnalysisResult] = analyze,\n    force_full_search: bool = False,\n) -> Dict[str, Any]:\n    analysis = analysis_fn(circuit)\n    planner_cfg = PlannerConfig(**(planner_overrides or {}))\n\n    exec_kwargs = dict(execution_overrides or {})\n    exec_kwargs.setdefault(\"max_ram_gb\", planner_cfg.max_ram_gb)\n    exec_cfg = ExecutionConfig(**exec_kwargs)\n\n    if force_full_search:\n        with disable_quick_path():\n            plan_result = plan(analysis.ssd, planner_cfg)\n    else:\n        plan_result = plan(analysis.ssd, planner_cfg)\n\n    execution = execute_ssd(plan_result, exec_cfg)\n    return {\n        \"analysis\": analysis.metrics_global,\n        \"plan\": {\n            \"estimated_cost\": plan_result.estimated_cost,\n            \"num_partitions\": len(plan_result.partitions),\n            \"decision_trace\": list(plan_result.decision_trace),\n        },\n        \"execution\": execution,\n    }\n\n\ndef summarize_run(outcome: Dict[str, Any]) -> Dict[str, Any]:\n    analysis = outcome[\"analysis\"]\n    plan_meta = outcome[\"plan\"]\n    exec_meta = outcome[\"execution\"][\"meta\"]\n    return {\n        \"num_qubits\": int(analysis.get(\"num_qubits\", 0)),\n        \"num_gates\": int(analysis.get(\"num_gates\", 0)),\n        \"two_qubit_gates\": int(analysis.get(\"two_qubit_gates\", 0)),\n        \"estimated_cost\": float(plan_meta[\"estimated_cost\"]),\n        \"num_partitions\": int(plan_meta[\"num_partitions\"]),\n        \"decision_trace\": plan_meta[\"decision_trace\"],\n        \"exec_wall_s\": float(exec_meta.get(\"wall_elapsed_s\", 0.0)),\n        \"peak_rss_bytes\": exec_meta.get(\"peak_rss_bytes\"),\n        \"cache_hits\": int(exec_meta.get(\"cache_hits\", 0)),\n        \"cache_misses\": int(exec_meta.get(\"cache_misses\", 0)),\n    }\n\n\ndef sweep_quasar(\n    *,\n    family: str,\n    varying: str,\n    values: Iterable[int],\n    fixed_qubits: int,\n    fixed_depth: int,\n    circuit_kwargs: Optional[Dict[str, Any]] = None,\n    planner_overrides: Optional[Dict[str, Any]] = None,\n    execution_overrides: Optional[Dict[str, Any]] = None,\n    analysis_fn: Callable[[Any], AnalysisResult] = analyze,\n    force_full_search: bool = False,\n) -> List[BenchmarkRecord]:\n    records: List[BenchmarkRecord] = []\n    for value in values:\n        if varying == \"qubits\":\n            num_qubits = int(value)\n            depth = int(fixed_depth)\n        elif varying == \"depth\":\n            num_qubits = int(fixed_qubits)\n            depth = int(value)\n        else:\n            raise ValueError(\"varying must be 'qubits' or 'depth'\")\n        circuit = generate_benchmark_circuit(\n            num_qubits=num_qubits,\n            depth=depth,\n            family=family,\n            **(circuit_kwargs or {}),\n        )\n        outcome = run_quasar_pipeline(\n            circuit,\n            planner_overrides=planner_overrides,\n            execution_overrides=execution_overrides,\n            analysis_fn=analysis_fn,\n            force_full_search=force_full_search,\n        )\n        summary = summarize_run(outcome)\n        summary.update({\"family\": family, \"depth\": depth})\n        records.append(summary)\n    return records\n\n\ndef sweep_baseline(\n    *,\n    backend: str,\n    family: str,\n    varying: str,\n    values: Iterable[int],\n    fixed_qubits: int,\n    fixed_depth: int,\n    circuit_kwargs: Optional[Dict[str, Any]] = None,\n    baseline_kwargs: Optional[Dict[str, Any]] = None,\n) -> List[BenchmarkRecord]:\n    records: List[BenchmarkRecord] = []\n    for value in values:\n        if varying == \"qubits\":\n            num_qubits = int(value)\n            depth = int(fixed_depth)\n        elif varying == \"depth\":\n            num_qubits = int(fixed_qubits)\n            depth = int(value)\n        else:\n            raise ValueError(\"varying must be 'qubits' or 'depth'\")\n        circuit = generate_benchmark_circuit(\n            num_qubits=num_qubits,\n            depth=depth,\n            family=family,\n            **(circuit_kwargs or {}),\n        )\n        result = run_single_baseline(\n            circuit,\n            backend,\n            **(baseline_kwargs or {}),\n        )\n        payload = result.get(\"result\", result)\n        summary = {\n            \"backend\": backend,\n            \"family\": family,\n            \"num_qubits\": num_qubits,\n            \"depth\": depth,\n            \"ok\": payload.get(\"ok\"),\n            \"elapsed_s\": payload.get(\"elapsed_s\"),\n            \"wall_s_measured\": payload.get(\"wall_s_measured\"),\n            \"error\": payload.get(\"error\"),\n        }\n        records.append(summary)\n    return records"
    },
    {
      "cell_type": "markdown",
      "metadata": {},
      "source": "## Default sweep configuration\nAdjust the values in this cell to target specific circuit families, qubit counts, and depths."
    },
    {
      "cell_type": "code",
      "metadata": {},
      "execution_count": null,
      "outputs": [],
      "source": "family = \"mixed\"\nqubit_sweep = [6, 8, 10]\ndepth_sweep = [8, 12, 16]\n\n# Circuit-generation options are passed to ``generate_benchmark_circuit``.\ncircuit_options = {\"block_size\": 4, \"cutoff\": 0.75, \"tail_type\": \"sparse\", \"seed\": 7}\n\n# Planner overrides are forwarded to :class:`PlannerConfig`.\nplanner_options = {\"max_ram_gb\": 4.0, \"prefer_dd\": True}\n\n# Baseline runner parameters, e.g. to cap RAM usage.\nbaseline_options = {\"max_ram_gb\": 4.0, \"timeout_s\": 30.0}"
    },
    {
      "cell_type": "markdown",
      "metadata": {},
      "source": "## QuASAr sweeps\nRun QuASAr across the configured sweep dimensions."
    },
    {
      "cell_type": "code",
      "metadata": {},
      "execution_count": null,
      "outputs": [],
      "source": "quasar_qubit_results = sweep_quasar(\n    family=family,\n    varying=\"qubits\",\n    values=qubit_sweep,\n    fixed_qubits=qubit_sweep[0],\n    fixed_depth=depth_sweep[0],\n    circuit_kwargs=circuit_options,\n    planner_overrides=planner_options,\n)\n\nquasar_depth_results = sweep_quasar(\n    family=family,\n    varying=\"depth\",\n    values=depth_sweep,\n    fixed_qubits=qubit_sweep[0],\n    fixed_depth=depth_sweep[0],\n    circuit_kwargs=circuit_options,\n    planner_overrides=planner_options,\n)\n\ndisplay(_to_dataframe(quasar_qubit_results))\ndisplay(_to_dataframe(quasar_depth_results))"
    },
    {
      "cell_type": "markdown",
      "metadata": {},
      "source": "## Tableau baseline sweeps"
    },
    {
      "cell_type": "code",
      "metadata": {},
      "execution_count": null,
      "outputs": [],
      "source": "tableau_qubit_results = sweep_baseline(\n    backend=\"tableau\",\n    family=family,\n    varying=\"qubits\",\n    values=qubit_sweep,\n    fixed_qubits=qubit_sweep[0],\n    fixed_depth=depth_sweep[0],\n    circuit_kwargs=circuit_options,\n    baseline_kwargs=baseline_options,\n)\n\ndisplay(_to_dataframe(tableau_qubit_results))"
    },
    {
      "cell_type": "markdown",
      "metadata": {},
      "source": "## Statevector baseline sweeps"
    },
    {
      "cell_type": "code",
      "metadata": {},
      "execution_count": null,
      "outputs": [],
      "source": "statevector_depth_results = sweep_baseline(\n    backend=\"sv\",\n    family=family,\n    varying=\"depth\",\n    values=depth_sweep,\n    fixed_qubits=qubit_sweep[0],\n    fixed_depth=depth_sweep[0],\n    circuit_kwargs=circuit_options,\n    baseline_kwargs=baseline_options,\n)\n\ndisplay(_to_dataframe(statevector_depth_results))"
    },
    {
      "cell_type": "markdown",
      "metadata": {},
      "source": "## Decision-diagram baseline sweeps"
    },
    {
      "cell_type": "code",
      "metadata": {},
      "execution_count": null,
      "outputs": [],
      "source": "dd_qubit_results = sweep_baseline(\n    backend=\"dd\",\n    family=family,\n    varying=\"qubits\",\n    values=qubit_sweep,\n    fixed_qubits=qubit_sweep[0],\n    fixed_depth=depth_sweep[0],\n    circuit_kwargs=circuit_options,\n    baseline_kwargs=baseline_options,\n)\n\ndisplay(_to_dataframe(dd_qubit_results))"
    },
    {
      "cell_type": "markdown",
      "metadata": {},
      "source": "## Ablation: disable disjoint parallelisation"
    },
    {
      "cell_type": "code",
      "metadata": {},
      "execution_count": null,
      "outputs": [],
      "source": "ablation_disjoint = sweep_quasar(\n    family=family,\n    varying=\"qubits\",\n    values=qubit_sweep,\n    fixed_qubits=qubit_sweep[0],\n    fixed_depth=depth_sweep[0],\n    circuit_kwargs=circuit_options,\n    planner_overrides=planner_options,\n    analysis_fn=analyze_without_disjoint,\n)\n\ndisplay(_to_dataframe(ablation_disjoint))"
    },
    {
      "cell_type": "markdown",
      "metadata": {},
      "source": "## Ablation: disable method-based partitioning"
    },
    {
      "cell_type": "code",
      "metadata": {},
      "execution_count": null,
      "outputs": [],
      "source": "ablation_method = sweep_quasar(\n    family=family,\n    varying=\"depth\",\n    values=depth_sweep,\n    fixed_qubits=qubit_sweep[0],\n    fixed_depth=depth_sweep[0],\n    circuit_kwargs=circuit_options,\n    planner_overrides={**planner_options, \"hybrid_clifford_tail\": False},\n)\n\ndisplay(_to_dataframe(ablation_method))"
    },
    {
      "cell_type": "markdown",
      "metadata": {},
      "source": "## Ablation: disable quick-path method selection"
    },
    {
      "cell_type": "code",
      "metadata": {},
      "execution_count": null,
      "outputs": [],
      "source": "ablation_quick_path = sweep_quasar(\n    family=family,\n    varying=\"qubits\",\n    values=qubit_sweep,\n    fixed_qubits=qubit_sweep[0],\n    fixed_depth=depth_sweep[0],\n    circuit_kwargs=circuit_options,\n    planner_overrides=planner_options,\n    force_full_search=True,\n)\n\ndisplay(_to_dataframe(ablation_quick_path))"
    }
  ],
  "metadata": {
    "kernelspec": {
      "display_name": "Python 3",
      "language": "python",
      "name": "python3"
    },
    "language_info": {
      "name": "python",
      "version": "3.10"
    }
  },
  "nbformat": 4,
  "nbformat_minor": 5
}